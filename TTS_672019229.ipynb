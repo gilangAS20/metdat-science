{
 "cells": [
  {
   "cell_type": "markdown",
   "metadata": {
    "id": "Ypvu1UPjV5om"
   },
   "source": [
    "# **Petunjuk TTS**\n",
    "\n",
    "Silakan simpan file ke dalam bentuk **TTS_NIM.ipynb**. Tuliskan koding untuk dapat menampilkan hasil seperti yang diminta. Setelah selesai mengerjakan, silakan unggah ke GClass. Jangan sampai terlambat ya...keterlambatan mengakibatkan pengurangan nilai TTS.\n",
    "\n",
    "Have fun!"
   ]
  },
  {
   "cell_type": "markdown",
   "metadata": {
    "id": "IoFuMCW8F-44"
   },
   "source": [
    "### **1. Import Libraries**"
   ]
  },
  {
   "cell_type": "code",
   "execution_count": 15,
   "metadata": {},
   "outputs": [
    {
     "name": "stdout",
     "output_type": "stream",
     "text": [
      "Collecting missingno\n",
      "  Downloading missingno-0.5.1-py3-none-any.whl (8.7 kB)\n",
      "Requirement already satisfied: matplotlib in c:\\users\\acer\\anaconda3\\lib\\site-packages (from missingno) (3.3.2)\n",
      "Requirement already satisfied: seaborn in c:\\users\\acer\\anaconda3\\lib\\site-packages (from missingno) (0.11.0)\n",
      "Requirement already satisfied: scipy in c:\\users\\acer\\anaconda3\\lib\\site-packages (from missingno) (1.5.2)\n",
      "Note: you may need to restart the kernel to use updated packages.Requirement already satisfied: numpy in c:\\users\\acer\\anaconda3\\lib\\site-packages (from missingno) (1.19.2)\n",
      "Requirement already satisfied: pillow>=6.2.0 in c:\\users\\acer\\anaconda3\\lib\\site-packages (from matplotlib->missingno) (8.0.1)\n",
      "Requirement already satisfied: certifi>=2020.06.20 in c:\\users\\acer\\anaconda3\\lib\\site-packages (from matplotlib->missingno) (2020.6.20)\n",
      "\n",
      "Requirement already satisfied: cycler>=0.10 in c:\\users\\acer\\anaconda3\\lib\\site-packages (from matplotlib->missingno) (0.10.0)\n",
      "Requirement already satisfied: kiwisolver>=1.0.1 in c:\\users\\acer\\anaconda3\\lib\\site-packages (from matplotlib->missingno) (1.3.0)\n",
      "Requirement already satisfied: pyparsing!=2.0.4,!=2.1.2,!=2.1.6,>=2.0.3 in c:\\users\\acer\\anaconda3\\lib\\site-packages (from matplotlib->missingno) (2.4.7)\n",
      "Requirement already satisfied: python-dateutil>=2.1 in c:\\users\\acer\\anaconda3\\lib\\site-packages (from matplotlib->missingno) (2.8.1)\n",
      "Requirement already satisfied: pandas>=0.23 in c:\\users\\acer\\anaconda3\\lib\\site-packages (from seaborn->missingno) (1.1.3)\n",
      "Requirement already satisfied: six in c:\\users\\acer\\anaconda3\\lib\\site-packages (from cycler>=0.10->matplotlib->missingno) (1.15.0)\n",
      "Requirement already satisfied: pytz>=2017.2 in c:\\users\\acer\\anaconda3\\lib\\site-packages (from pandas>=0.23->seaborn->missingno) (2020.1)\n",
      "Installing collected packages: missingno\n",
      "Successfully installed missingno-0.5.1\n"
     ]
    }
   ],
   "source": [
    "pip install missingno"
   ]
  },
  {
   "cell_type": "code",
   "execution_count": 48,
   "metadata": {
    "id": "CYwVqp1MFwpB"
   },
   "outputs": [],
   "source": [
    "# Silakan import librari yang kalian butuhkan (pandas, numpy, matplotlib, seaborn, dan missingno)\n",
    "\n",
    "\n",
    "import pandas as pd\n",
    "import numpy as np\n",
    "import matplotlib.pyplot as plt\n",
    "import seaborn as sns\n",
    "\n",
    "import missingno as msno"
   ]
  },
  {
   "cell_type": "code",
   "execution_count": 58,
   "metadata": {
    "id": "cnLXMZLUNZln"
   },
   "outputs": [],
   "source": [
    "# Ambil dataset dari (https://github.com/adelnehme/python-for-spreadsheet-users-webinar/blob/master/datasets/airbnb.csv?raw=true) dan simpan dengan nama variabel data\n",
    "data = pd.read_csv('https://github.com/adelnehme/python-for-spreadsheet-users-webinar/blob/master/datasets/airbnb.csv?raw=true')"
   ]
  },
  {
   "cell_type": "code",
   "execution_count": 59,
   "metadata": {
    "colab": {
     "base_uri": "https://localhost:8080/",
     "height": 531
    },
    "id": "QBdiE3MBNgio",
    "outputId": "f020f93d-07af-46d4-c767-e0b329b53c84"
   },
   "outputs": [
    {
     "data": {
      "text/html": [
       "<div>\n",
       "<style scoped>\n",
       "    .dataframe tbody tr th:only-of-type {\n",
       "        vertical-align: middle;\n",
       "    }\n",
       "\n",
       "    .dataframe tbody tr th {\n",
       "        vertical-align: top;\n",
       "    }\n",
       "\n",
       "    .dataframe thead th {\n",
       "        text-align: right;\n",
       "    }\n",
       "</style>\n",
       "<table border=\"1\" class=\"dataframe\">\n",
       "  <thead>\n",
       "    <tr style=\"text-align: right;\">\n",
       "      <th></th>\n",
       "      <th>Unnamed: 0</th>\n",
       "      <th>listing_id</th>\n",
       "      <th>name</th>\n",
       "      <th>host_id</th>\n",
       "      <th>host_name</th>\n",
       "      <th>neighbourhood_full</th>\n",
       "      <th>coordinates</th>\n",
       "      <th>room_type</th>\n",
       "      <th>price</th>\n",
       "      <th>number_of_reviews</th>\n",
       "      <th>last_review</th>\n",
       "      <th>reviews_per_month</th>\n",
       "      <th>availability_365</th>\n",
       "      <th>rating</th>\n",
       "      <th>number_of_stays</th>\n",
       "      <th>5_stars</th>\n",
       "      <th>listing_added</th>\n",
       "    </tr>\n",
       "  </thead>\n",
       "  <tbody>\n",
       "    <tr>\n",
       "      <th>0</th>\n",
       "      <td>0</td>\n",
       "      <td>13740704</td>\n",
       "      <td>Cozy,budget friendly, cable inc, private entra...</td>\n",
       "      <td>20583125</td>\n",
       "      <td>Michel</td>\n",
       "      <td>Brooklyn, Flatlands</td>\n",
       "      <td>(40.63222, -73.93398)</td>\n",
       "      <td>Private room</td>\n",
       "      <td>45$</td>\n",
       "      <td>10</td>\n",
       "      <td>2018-12-12</td>\n",
       "      <td>0.70</td>\n",
       "      <td>85</td>\n",
       "      <td>4.100954</td>\n",
       "      <td>12.0</td>\n",
       "      <td>0.609432</td>\n",
       "      <td>2018-06-08</td>\n",
       "    </tr>\n",
       "    <tr>\n",
       "      <th>1</th>\n",
       "      <td>1</td>\n",
       "      <td>22005115</td>\n",
       "      <td>Two floor apartment near Central Park</td>\n",
       "      <td>82746113</td>\n",
       "      <td>Cecilia</td>\n",
       "      <td>Manhattan, Upper West Side</td>\n",
       "      <td>(40.78761, -73.96862)</td>\n",
       "      <td>Entire home/apt</td>\n",
       "      <td>135$</td>\n",
       "      <td>1</td>\n",
       "      <td>2019-06-30</td>\n",
       "      <td>1.00</td>\n",
       "      <td>145</td>\n",
       "      <td>3.367600</td>\n",
       "      <td>1.2</td>\n",
       "      <td>0.746135</td>\n",
       "      <td>2018-12-25</td>\n",
       "    </tr>\n",
       "    <tr>\n",
       "      <th>2</th>\n",
       "      <td>2</td>\n",
       "      <td>21667615</td>\n",
       "      <td>Beautiful 1BR in Brooklyn Heights</td>\n",
       "      <td>78251</td>\n",
       "      <td>Leslie</td>\n",
       "      <td>Brooklyn, Brooklyn Heights</td>\n",
       "      <td>(40.7007, -73.99517)</td>\n",
       "      <td>Entire home/apt</td>\n",
       "      <td>150$</td>\n",
       "      <td>0</td>\n",
       "      <td>NaN</td>\n",
       "      <td>NaN</td>\n",
       "      <td>65</td>\n",
       "      <td>NaN</td>\n",
       "      <td>NaN</td>\n",
       "      <td>NaN</td>\n",
       "      <td>2018-08-15</td>\n",
       "    </tr>\n",
       "    <tr>\n",
       "      <th>3</th>\n",
       "      <td>3</td>\n",
       "      <td>6425850</td>\n",
       "      <td>Spacious, charming studio</td>\n",
       "      <td>32715865</td>\n",
       "      <td>Yelena</td>\n",
       "      <td>Manhattan, Upper West Side</td>\n",
       "      <td>(40.79169, -73.97498)</td>\n",
       "      <td>Entire home/apt</td>\n",
       "      <td>86$</td>\n",
       "      <td>5</td>\n",
       "      <td>2017-09-23</td>\n",
       "      <td>0.13</td>\n",
       "      <td>0</td>\n",
       "      <td>4.763203</td>\n",
       "      <td>6.0</td>\n",
       "      <td>0.769947</td>\n",
       "      <td>2017-03-20</td>\n",
       "    </tr>\n",
       "    <tr>\n",
       "      <th>4</th>\n",
       "      <td>4</td>\n",
       "      <td>22986519</td>\n",
       "      <td>Bedroom on the lively Lower East Side</td>\n",
       "      <td>154262349</td>\n",
       "      <td>Brooke</td>\n",
       "      <td>Manhattan, Lower East Side</td>\n",
       "      <td>(40.71884, -73.98354)</td>\n",
       "      <td>Private room</td>\n",
       "      <td>160$</td>\n",
       "      <td>23</td>\n",
       "      <td>2019-06-12</td>\n",
       "      <td>2.29</td>\n",
       "      <td>102</td>\n",
       "      <td>3.822591</td>\n",
       "      <td>27.6</td>\n",
       "      <td>0.649383</td>\n",
       "      <td>2020-10-23</td>\n",
       "    </tr>\n",
       "  </tbody>\n",
       "</table>\n",
       "</div>"
      ],
      "text/plain": [
       "   Unnamed: 0  listing_id                                               name  \\\n",
       "0           0    13740704  Cozy,budget friendly, cable inc, private entra...   \n",
       "1           1    22005115              Two floor apartment near Central Park   \n",
       "2           2    21667615                  Beautiful 1BR in Brooklyn Heights   \n",
       "3           3     6425850                          Spacious, charming studio   \n",
       "4           4    22986519              Bedroom on the lively Lower East Side   \n",
       "\n",
       "     host_id host_name          neighbourhood_full            coordinates  \\\n",
       "0   20583125    Michel         Brooklyn, Flatlands  (40.63222, -73.93398)   \n",
       "1   82746113   Cecilia  Manhattan, Upper West Side  (40.78761, -73.96862)   \n",
       "2      78251    Leslie  Brooklyn, Brooklyn Heights   (40.7007, -73.99517)   \n",
       "3   32715865    Yelena  Manhattan, Upper West Side  (40.79169, -73.97498)   \n",
       "4  154262349    Brooke  Manhattan, Lower East Side  (40.71884, -73.98354)   \n",
       "\n",
       "         room_type price  number_of_reviews last_review  reviews_per_month  \\\n",
       "0     Private room   45$                 10  2018-12-12               0.70   \n",
       "1  Entire home/apt  135$                  1  2019-06-30               1.00   \n",
       "2  Entire home/apt  150$                  0         NaN                NaN   \n",
       "3  Entire home/apt   86$                  5  2017-09-23               0.13   \n",
       "4     Private room  160$                 23  2019-06-12               2.29   \n",
       "\n",
       "   availability_365    rating  number_of_stays   5_stars listing_added  \n",
       "0                85  4.100954             12.0  0.609432    2018-06-08  \n",
       "1               145  3.367600              1.2  0.746135    2018-12-25  \n",
       "2                65       NaN              NaN       NaN    2018-08-15  \n",
       "3                 0  4.763203              6.0  0.769947    2017-03-20  \n",
       "4               102  3.822591             27.6  0.649383    2020-10-23  "
      ]
     },
     "execution_count": 59,
     "metadata": {},
     "output_type": "execute_result"
    }
   ],
   "source": [
    "# Lihat 5 data teratas pada DataFrame \"data\"\n",
    "data.head()"
   ]
  },
  {
   "cell_type": "code",
   "execution_count": 60,
   "metadata": {
    "colab": {
     "base_uri": "https://localhost:8080/"
    },
    "id": "BNE2SaGvNra3",
    "outputId": "5652c5eb-efe7-45d4-a19e-ba9892dc0e07"
   },
   "outputs": [
    {
     "name": "stdout",
     "output_type": "stream",
     "text": [
      "Unnamed: 0              int64\n",
      "listing_id              int64\n",
      "name                   object\n",
      "host_id                 int64\n",
      "host_name              object\n",
      "neighbourhood_full     object\n",
      "coordinates            object\n",
      "room_type              object\n",
      "price                  object\n",
      "number_of_reviews       int64\n",
      "last_review            object\n",
      "reviews_per_month     float64\n",
      "availability_365        int64\n",
      "rating                float64\n",
      "number_of_stays       float64\n",
      "5_stars               float64\n",
      "listing_added          object\n",
      "dtype: object\n"
     ]
    }
   ],
   "source": [
    "# Cek tipe data dalam \"data\"\n",
    "print(data.dtypes)"
   ]
  },
  {
   "cell_type": "markdown",
   "metadata": {
    "id": "Tbe-8a0PQLt9"
   },
   "source": [
    "### **2. Membersihkan Data**"
   ]
  },
  {
   "cell_type": "markdown",
   "metadata": {
    "id": "E-3UvLG3QSuU"
   },
   "source": [
    "**Challenge 1**: Ganti `coordinates` dengan kolom `latitude` dan `longitude`"
   ]
  },
  {
   "cell_type": "code",
   "execution_count": 61,
   "metadata": {
    "colab": {
     "base_uri": "https://localhost:8080/"
    },
    "id": "MzyrK_11P1i3",
    "outputId": "c93bab4b-8f01-4263-c44d-4a3d3f9022d8"
   },
   "outputs": [],
   "source": [
    "# Hapus tanda \"(\" dan \")\" dari kolom coordinates\n",
    "data['coordinates'] = data['coordinates'].str.replace(\"(\",\"\")\n",
    "data['coordinates'] = data['coordinates'].str.replace(\")\",\"\")"
   ]
  },
  {
   "cell_type": "code",
   "execution_count": 62,
   "metadata": {
    "colab": {
     "base_uri": "https://localhost:8080/"
    },
    "id": "1shmvP0-Yep9",
    "outputId": "86f1c4a1-aa75-43eb-9504-141e226cab65"
   },
   "outputs": [
    {
     "data": {
      "text/plain": [
       "0    40.63222, -73.93398\n",
       "1    40.78761, -73.96862\n",
       "2     40.7007, -73.99517\n",
       "3    40.79169, -73.97498\n",
       "4    40.71884, -73.98354\n",
       "Name: coordinates, dtype: object"
      ]
     },
     "execution_count": 62,
     "metadata": {},
     "output_type": "execute_result"
    }
   ],
   "source": [
    "# Cetak 5 data paling atas dari kolom coordinates\n",
    "data['coordinates'].head()"
   ]
  },
  {
   "cell_type": "code",
   "execution_count": 63,
   "metadata": {
    "colab": {
     "base_uri": "https://localhost:8080/",
     "height": 206
    },
    "id": "s2fRuKGIQxkm",
    "outputId": "3c7250ac-ccf2-4cef-a472-546b9c254809"
   },
   "outputs": [
    {
     "data": {
      "text/html": [
       "<div>\n",
       "<style scoped>\n",
       "    .dataframe tbody tr th:only-of-type {\n",
       "        vertical-align: middle;\n",
       "    }\n",
       "\n",
       "    .dataframe tbody tr th {\n",
       "        vertical-align: top;\n",
       "    }\n",
       "\n",
       "    .dataframe thead th {\n",
       "        text-align: right;\n",
       "    }\n",
       "</style>\n",
       "<table border=\"1\" class=\"dataframe\">\n",
       "  <thead>\n",
       "    <tr style=\"text-align: right;\">\n",
       "      <th></th>\n",
       "      <th>0</th>\n",
       "      <th>1</th>\n",
       "    </tr>\n",
       "  </thead>\n",
       "  <tbody>\n",
       "    <tr>\n",
       "      <th>0</th>\n",
       "      <td>40.63222</td>\n",
       "      <td>-73.93398</td>\n",
       "    </tr>\n",
       "    <tr>\n",
       "      <th>1</th>\n",
       "      <td>40.78761</td>\n",
       "      <td>-73.96862</td>\n",
       "    </tr>\n",
       "    <tr>\n",
       "      <th>2</th>\n",
       "      <td>40.7007</td>\n",
       "      <td>-73.99517</td>\n",
       "    </tr>\n",
       "    <tr>\n",
       "      <th>3</th>\n",
       "      <td>40.79169</td>\n",
       "      <td>-73.97498</td>\n",
       "    </tr>\n",
       "    <tr>\n",
       "      <th>4</th>\n",
       "      <td>40.71884</td>\n",
       "      <td>-73.98354</td>\n",
       "    </tr>\n",
       "  </tbody>\n",
       "</table>\n",
       "</div>"
      ],
      "text/plain": [
       "          0           1\n",
       "0  40.63222   -73.93398\n",
       "1  40.78761   -73.96862\n",
       "2   40.7007   -73.99517\n",
       "3  40.79169   -73.97498\n",
       "4  40.71884   -73.98354"
      ]
     },
     "execution_count": 63,
     "metadata": {},
     "output_type": "execute_result"
    }
   ],
   "source": [
    "# Lakukan split data di kolom coordinates, beri nama lat_long\n",
    "lat_long = data['coordinates'].str.split(\",\", expand = True)\n",
    "\n",
    "datas = pd.DataFrame(lat_long)\n",
    "datas.head()"
   ]
  },
  {
   "cell_type": "code",
   "execution_count": 64,
   "metadata": {
    "id": "kQNz2paZQ1Sb"
   },
   "outputs": [],
   "source": [
    "# Buat supaya latitude berisi nilai lat_long[0] dan longitude berisi nilai lat_long[1]\n",
    "latitude = lat_long[0]\n",
    "data['latitude'] = lat_long[0]\n",
    "data['longitude'] = lat_long[1]"
   ]
  },
  {
   "cell_type": "code",
   "execution_count": 65,
   "metadata": {
    "colab": {
     "base_uri": "https://localhost:8080/",
     "height": 531
    },
    "id": "E9yV57NFZb-g",
    "outputId": "0f8ea3d1-d811-449c-af8b-bbdaeddee2f2"
   },
   "outputs": [
    {
     "data": {
      "text/html": [
       "<div>\n",
       "<style scoped>\n",
       "    .dataframe tbody tr th:only-of-type {\n",
       "        vertical-align: middle;\n",
       "    }\n",
       "\n",
       "    .dataframe tbody tr th {\n",
       "        vertical-align: top;\n",
       "    }\n",
       "\n",
       "    .dataframe thead th {\n",
       "        text-align: right;\n",
       "    }\n",
       "</style>\n",
       "<table border=\"1\" class=\"dataframe\">\n",
       "  <thead>\n",
       "    <tr style=\"text-align: right;\">\n",
       "      <th></th>\n",
       "      <th>Unnamed: 0</th>\n",
       "      <th>listing_id</th>\n",
       "      <th>name</th>\n",
       "      <th>host_id</th>\n",
       "      <th>host_name</th>\n",
       "      <th>neighbourhood_full</th>\n",
       "      <th>coordinates</th>\n",
       "      <th>room_type</th>\n",
       "      <th>price</th>\n",
       "      <th>number_of_reviews</th>\n",
       "      <th>last_review</th>\n",
       "      <th>reviews_per_month</th>\n",
       "      <th>availability_365</th>\n",
       "      <th>rating</th>\n",
       "      <th>number_of_stays</th>\n",
       "      <th>5_stars</th>\n",
       "      <th>listing_added</th>\n",
       "      <th>latitude</th>\n",
       "      <th>longitude</th>\n",
       "    </tr>\n",
       "  </thead>\n",
       "  <tbody>\n",
       "    <tr>\n",
       "      <th>0</th>\n",
       "      <td>0</td>\n",
       "      <td>13740704</td>\n",
       "      <td>Cozy,budget friendly, cable inc, private entra...</td>\n",
       "      <td>20583125</td>\n",
       "      <td>Michel</td>\n",
       "      <td>Brooklyn, Flatlands</td>\n",
       "      <td>40.63222, -73.93398</td>\n",
       "      <td>Private room</td>\n",
       "      <td>45$</td>\n",
       "      <td>10</td>\n",
       "      <td>2018-12-12</td>\n",
       "      <td>0.70</td>\n",
       "      <td>85</td>\n",
       "      <td>4.100954</td>\n",
       "      <td>12.0</td>\n",
       "      <td>0.609432</td>\n",
       "      <td>2018-06-08</td>\n",
       "      <td>40.63222</td>\n",
       "      <td>-73.93398</td>\n",
       "    </tr>\n",
       "    <tr>\n",
       "      <th>1</th>\n",
       "      <td>1</td>\n",
       "      <td>22005115</td>\n",
       "      <td>Two floor apartment near Central Park</td>\n",
       "      <td>82746113</td>\n",
       "      <td>Cecilia</td>\n",
       "      <td>Manhattan, Upper West Side</td>\n",
       "      <td>40.78761, -73.96862</td>\n",
       "      <td>Entire home/apt</td>\n",
       "      <td>135$</td>\n",
       "      <td>1</td>\n",
       "      <td>2019-06-30</td>\n",
       "      <td>1.00</td>\n",
       "      <td>145</td>\n",
       "      <td>3.367600</td>\n",
       "      <td>1.2</td>\n",
       "      <td>0.746135</td>\n",
       "      <td>2018-12-25</td>\n",
       "      <td>40.78761</td>\n",
       "      <td>-73.96862</td>\n",
       "    </tr>\n",
       "    <tr>\n",
       "      <th>2</th>\n",
       "      <td>2</td>\n",
       "      <td>21667615</td>\n",
       "      <td>Beautiful 1BR in Brooklyn Heights</td>\n",
       "      <td>78251</td>\n",
       "      <td>Leslie</td>\n",
       "      <td>Brooklyn, Brooklyn Heights</td>\n",
       "      <td>40.7007, -73.99517</td>\n",
       "      <td>Entire home/apt</td>\n",
       "      <td>150$</td>\n",
       "      <td>0</td>\n",
       "      <td>NaN</td>\n",
       "      <td>NaN</td>\n",
       "      <td>65</td>\n",
       "      <td>NaN</td>\n",
       "      <td>NaN</td>\n",
       "      <td>NaN</td>\n",
       "      <td>2018-08-15</td>\n",
       "      <td>40.7007</td>\n",
       "      <td>-73.99517</td>\n",
       "    </tr>\n",
       "    <tr>\n",
       "      <th>3</th>\n",
       "      <td>3</td>\n",
       "      <td>6425850</td>\n",
       "      <td>Spacious, charming studio</td>\n",
       "      <td>32715865</td>\n",
       "      <td>Yelena</td>\n",
       "      <td>Manhattan, Upper West Side</td>\n",
       "      <td>40.79169, -73.97498</td>\n",
       "      <td>Entire home/apt</td>\n",
       "      <td>86$</td>\n",
       "      <td>5</td>\n",
       "      <td>2017-09-23</td>\n",
       "      <td>0.13</td>\n",
       "      <td>0</td>\n",
       "      <td>4.763203</td>\n",
       "      <td>6.0</td>\n",
       "      <td>0.769947</td>\n",
       "      <td>2017-03-20</td>\n",
       "      <td>40.79169</td>\n",
       "      <td>-73.97498</td>\n",
       "    </tr>\n",
       "    <tr>\n",
       "      <th>4</th>\n",
       "      <td>4</td>\n",
       "      <td>22986519</td>\n",
       "      <td>Bedroom on the lively Lower East Side</td>\n",
       "      <td>154262349</td>\n",
       "      <td>Brooke</td>\n",
       "      <td>Manhattan, Lower East Side</td>\n",
       "      <td>40.71884, -73.98354</td>\n",
       "      <td>Private room</td>\n",
       "      <td>160$</td>\n",
       "      <td>23</td>\n",
       "      <td>2019-06-12</td>\n",
       "      <td>2.29</td>\n",
       "      <td>102</td>\n",
       "      <td>3.822591</td>\n",
       "      <td>27.6</td>\n",
       "      <td>0.649383</td>\n",
       "      <td>2020-10-23</td>\n",
       "      <td>40.71884</td>\n",
       "      <td>-73.98354</td>\n",
       "    </tr>\n",
       "    <tr>\n",
       "      <th>...</th>\n",
       "      <td>...</td>\n",
       "      <td>...</td>\n",
       "      <td>...</td>\n",
       "      <td>...</td>\n",
       "      <td>...</td>\n",
       "      <td>...</td>\n",
       "      <td>...</td>\n",
       "      <td>...</td>\n",
       "      <td>...</td>\n",
       "      <td>...</td>\n",
       "      <td>...</td>\n",
       "      <td>...</td>\n",
       "      <td>...</td>\n",
       "      <td>...</td>\n",
       "      <td>...</td>\n",
       "      <td>...</td>\n",
       "      <td>...</td>\n",
       "      <td>...</td>\n",
       "      <td>...</td>\n",
       "    </tr>\n",
       "    <tr>\n",
       "      <th>10014</th>\n",
       "      <td>10014</td>\n",
       "      <td>22307861</td>\n",
       "      <td>Lovely 1BR Harlem apartment</td>\n",
       "      <td>16004068</td>\n",
       "      <td>Rachel</td>\n",
       "      <td>Manhattan, Harlem</td>\n",
       "      <td>40.80379, -73.95257</td>\n",
       "      <td>Entire home/apt</td>\n",
       "      <td>105$</td>\n",
       "      <td>4</td>\n",
       "      <td>2018-05-28</td>\n",
       "      <td>0.21</td>\n",
       "      <td>0</td>\n",
       "      <td>4.757555</td>\n",
       "      <td>4.8</td>\n",
       "      <td>0.639223</td>\n",
       "      <td>2017-11-22</td>\n",
       "      <td>40.80379</td>\n",
       "      <td>-73.95257</td>\n",
       "    </tr>\n",
       "    <tr>\n",
       "      <th>10015</th>\n",
       "      <td>10015</td>\n",
       "      <td>953275</td>\n",
       "      <td>Apartment For Your Holidays in NYC!</td>\n",
       "      <td>4460034</td>\n",
       "      <td>Alain</td>\n",
       "      <td>Manhattan, East Harlem</td>\n",
       "      <td>40.79531, -73.9333</td>\n",
       "      <td>Entire home/apt</td>\n",
       "      <td>125$</td>\n",
       "      <td>50</td>\n",
       "      <td>2018-05-06</td>\n",
       "      <td>0.66</td>\n",
       "      <td>188</td>\n",
       "      <td>4.344704</td>\n",
       "      <td>60.0</td>\n",
       "      <td>0.648778</td>\n",
       "      <td>2017-10-31</td>\n",
       "      <td>40.79531</td>\n",
       "      <td>-73.9333</td>\n",
       "    </tr>\n",
       "    <tr>\n",
       "      <th>10016</th>\n",
       "      <td>10016</td>\n",
       "      <td>3452835</td>\n",
       "      <td>Artsy, Garden Getaway in Central Brooklyn</td>\n",
       "      <td>666862</td>\n",
       "      <td>Amy</td>\n",
       "      <td>Brooklyn, Clinton Hill</td>\n",
       "      <td>40.68266, -73.96743000000002</td>\n",
       "      <td>Entire home/apt</td>\n",
       "      <td>100$</td>\n",
       "      <td>45</td>\n",
       "      <td>2016-11-27</td>\n",
       "      <td>0.98</td>\n",
       "      <td>0</td>\n",
       "      <td>3.966214</td>\n",
       "      <td>54.0</td>\n",
       "      <td>0.631713</td>\n",
       "      <td>2016-05-24</td>\n",
       "      <td>40.68266</td>\n",
       "      <td>-73.96743000000002</td>\n",
       "    </tr>\n",
       "    <tr>\n",
       "      <th>10017</th>\n",
       "      <td>10017</td>\n",
       "      <td>23540194</td>\n",
       "      <td>Immaculate townhouse in Clinton Hill, Brooklyn</td>\n",
       "      <td>67176930</td>\n",
       "      <td>Sophie</td>\n",
       "      <td>Brooklyn, Clinton Hill</td>\n",
       "      <td>40.68832, -73.96366</td>\n",
       "      <td>Entire home/apt</td>\n",
       "      <td>450$</td>\n",
       "      <td>2</td>\n",
       "      <td>2019-05-31</td>\n",
       "      <td>0.17</td>\n",
       "      <td>99</td>\n",
       "      <td>4.078581</td>\n",
       "      <td>2.4</td>\n",
       "      <td>0.703360</td>\n",
       "      <td>2018-11-25</td>\n",
       "      <td>40.68832</td>\n",
       "      <td>-73.96366</td>\n",
       "    </tr>\n",
       "    <tr>\n",
       "      <th>10018</th>\n",
       "      <td>10018</td>\n",
       "      <td>32876011</td>\n",
       "      <td>Private room in a perfect location in the city</td>\n",
       "      <td>59583716</td>\n",
       "      <td>Shai</td>\n",
       "      <td>Manhattan, Upper East Side</td>\n",
       "      <td>40.76174, -73.96625</td>\n",
       "      <td>Private room</td>\n",
       "      <td>90$</td>\n",
       "      <td>1</td>\n",
       "      <td>2019-03-12</td>\n",
       "      <td>0.25</td>\n",
       "      <td>8</td>\n",
       "      <td>4.069096</td>\n",
       "      <td>1.2</td>\n",
       "      <td>0.720249</td>\n",
       "      <td>2018-09-06</td>\n",
       "      <td>40.76174</td>\n",
       "      <td>-73.96625</td>\n",
       "    </tr>\n",
       "  </tbody>\n",
       "</table>\n",
       "<p>10019 rows × 19 columns</p>\n",
       "</div>"
      ],
      "text/plain": [
       "       Unnamed: 0  listing_id  \\\n",
       "0               0    13740704   \n",
       "1               1    22005115   \n",
       "2               2    21667615   \n",
       "3               3     6425850   \n",
       "4               4    22986519   \n",
       "...           ...         ...   \n",
       "10014       10014    22307861   \n",
       "10015       10015      953275   \n",
       "10016       10016     3452835   \n",
       "10017       10017    23540194   \n",
       "10018       10018    32876011   \n",
       "\n",
       "                                                    name    host_id host_name  \\\n",
       "0      Cozy,budget friendly, cable inc, private entra...   20583125    Michel   \n",
       "1                  Two floor apartment near Central Park   82746113   Cecilia   \n",
       "2                      Beautiful 1BR in Brooklyn Heights      78251    Leslie   \n",
       "3                              Spacious, charming studio   32715865    Yelena   \n",
       "4                  Bedroom on the lively Lower East Side  154262349    Brooke   \n",
       "...                                                  ...        ...       ...   \n",
       "10014                        Lovely 1BR Harlem apartment   16004068    Rachel   \n",
       "10015                Apartment For Your Holidays in NYC!    4460034     Alain   \n",
       "10016          Artsy, Garden Getaway in Central Brooklyn     666862       Amy   \n",
       "10017     Immaculate townhouse in Clinton Hill, Brooklyn   67176930    Sophie   \n",
       "10018     Private room in a perfect location in the city   59583716      Shai   \n",
       "\n",
       "               neighbourhood_full                   coordinates  \\\n",
       "0             Brooklyn, Flatlands           40.63222, -73.93398   \n",
       "1      Manhattan, Upper West Side           40.78761, -73.96862   \n",
       "2      Brooklyn, Brooklyn Heights            40.7007, -73.99517   \n",
       "3      Manhattan, Upper West Side           40.79169, -73.97498   \n",
       "4      Manhattan, Lower East Side           40.71884, -73.98354   \n",
       "...                           ...                           ...   \n",
       "10014           Manhattan, Harlem           40.80379, -73.95257   \n",
       "10015      Manhattan, East Harlem            40.79531, -73.9333   \n",
       "10016      Brooklyn, Clinton Hill  40.68266, -73.96743000000002   \n",
       "10017      Brooklyn, Clinton Hill           40.68832, -73.96366   \n",
       "10018  Manhattan, Upper East Side           40.76174, -73.96625   \n",
       "\n",
       "             room_type price  number_of_reviews last_review  \\\n",
       "0         Private room   45$                 10  2018-12-12   \n",
       "1      Entire home/apt  135$                  1  2019-06-30   \n",
       "2      Entire home/apt  150$                  0         NaN   \n",
       "3      Entire home/apt   86$                  5  2017-09-23   \n",
       "4         Private room  160$                 23  2019-06-12   \n",
       "...                ...   ...                ...         ...   \n",
       "10014  Entire home/apt  105$                  4  2018-05-28   \n",
       "10015  Entire home/apt  125$                 50  2018-05-06   \n",
       "10016  Entire home/apt  100$                 45  2016-11-27   \n",
       "10017  Entire home/apt  450$                  2  2019-05-31   \n",
       "10018     Private room   90$                  1  2019-03-12   \n",
       "\n",
       "       reviews_per_month  availability_365    rating  number_of_stays  \\\n",
       "0                   0.70                85  4.100954             12.0   \n",
       "1                   1.00               145  3.367600              1.2   \n",
       "2                    NaN                65       NaN              NaN   \n",
       "3                   0.13                 0  4.763203              6.0   \n",
       "4                   2.29               102  3.822591             27.6   \n",
       "...                  ...               ...       ...              ...   \n",
       "10014               0.21                 0  4.757555              4.8   \n",
       "10015               0.66               188  4.344704             60.0   \n",
       "10016               0.98                 0  3.966214             54.0   \n",
       "10017               0.17                99  4.078581              2.4   \n",
       "10018               0.25                 8  4.069096              1.2   \n",
       "\n",
       "        5_stars listing_added  latitude            longitude  \n",
       "0      0.609432    2018-06-08  40.63222            -73.93398  \n",
       "1      0.746135    2018-12-25  40.78761            -73.96862  \n",
       "2           NaN    2018-08-15   40.7007            -73.99517  \n",
       "3      0.769947    2017-03-20  40.79169            -73.97498  \n",
       "4      0.649383    2020-10-23  40.71884            -73.98354  \n",
       "...         ...           ...       ...                  ...  \n",
       "10014  0.639223    2017-11-22  40.80379            -73.95257  \n",
       "10015  0.648778    2017-10-31  40.79531             -73.9333  \n",
       "10016  0.631713    2016-05-24  40.68266   -73.96743000000002  \n",
       "10017  0.703360    2018-11-25  40.68832            -73.96366  \n",
       "10018  0.720249    2018-09-06  40.76174            -73.96625  \n",
       "\n",
       "[10019 rows x 19 columns]"
      ]
     },
     "execution_count": 65,
     "metadata": {},
     "output_type": "execute_result"
    }
   ],
   "source": [
    "# Cetak data\n",
    "data"
   ]
  },
  {
   "cell_type": "code",
   "execution_count": 66,
   "metadata": {
    "id": "C0zGpOgLQ8rX"
   },
   "outputs": [],
   "source": [
    "# Konversi nilai latitude dan longitude menjadi FLOAT\n",
    "data['latitude'] = data['latitude'].astype(float)\n",
    "data['longitude'] = data['longitude'].astype(float)"
   ]
  },
  {
   "cell_type": "code",
   "execution_count": 67,
   "metadata": {
    "colab": {
     "base_uri": "https://localhost:8080/"
    },
    "id": "ebEpDC77ZuTu",
    "outputId": "7c687e10-d6a0-4efd-d8f7-20e5da639ee9"
   },
   "outputs": [
    {
     "name": "stdout",
     "output_type": "stream",
     "text": [
      "Unnamed: 0              int64\n",
      "listing_id              int64\n",
      "name                   object\n",
      "host_id                 int64\n",
      "host_name              object\n",
      "neighbourhood_full     object\n",
      "coordinates            object\n",
      "room_type              object\n",
      "price                  object\n",
      "number_of_reviews       int64\n",
      "last_review            object\n",
      "reviews_per_month     float64\n",
      "availability_365        int64\n",
      "rating                float64\n",
      "number_of_stays       float64\n",
      "5_stars               float64\n",
      "listing_added          object\n",
      "latitude              float64\n",
      "longitude             float64\n",
      "dtype: object\n"
     ]
    }
   ],
   "source": [
    "# Cek tipe data sekali lagi\n",
    "print(data.dtypes)"
   ]
  },
  {
   "cell_type": "code",
   "execution_count": 68,
   "metadata": {
    "id": "r7D3PugDRC-s"
   },
   "outputs": [],
   "source": [
    "# Hapus kolom coordinates\n",
    "data.drop('coordinates', axis=1, inplace=True)"
   ]
  },
  {
   "cell_type": "code",
   "execution_count": 69,
   "metadata": {
    "colab": {
     "base_uri": "https://localhost:8080/",
     "height": 531
    },
    "id": "8d1pzXydZ51_",
    "outputId": "92c184c7-d374-4995-ee94-a0ec1bc45a86"
   },
   "outputs": [
    {
     "data": {
      "text/html": [
       "<div>\n",
       "<style scoped>\n",
       "    .dataframe tbody tr th:only-of-type {\n",
       "        vertical-align: middle;\n",
       "    }\n",
       "\n",
       "    .dataframe tbody tr th {\n",
       "        vertical-align: top;\n",
       "    }\n",
       "\n",
       "    .dataframe thead th {\n",
       "        text-align: right;\n",
       "    }\n",
       "</style>\n",
       "<table border=\"1\" class=\"dataframe\">\n",
       "  <thead>\n",
       "    <tr style=\"text-align: right;\">\n",
       "      <th></th>\n",
       "      <th>Unnamed: 0</th>\n",
       "      <th>listing_id</th>\n",
       "      <th>name</th>\n",
       "      <th>host_id</th>\n",
       "      <th>host_name</th>\n",
       "      <th>neighbourhood_full</th>\n",
       "      <th>room_type</th>\n",
       "      <th>price</th>\n",
       "      <th>number_of_reviews</th>\n",
       "      <th>last_review</th>\n",
       "      <th>reviews_per_month</th>\n",
       "      <th>availability_365</th>\n",
       "      <th>rating</th>\n",
       "      <th>number_of_stays</th>\n",
       "      <th>5_stars</th>\n",
       "      <th>listing_added</th>\n",
       "      <th>latitude</th>\n",
       "      <th>longitude</th>\n",
       "    </tr>\n",
       "  </thead>\n",
       "  <tbody>\n",
       "    <tr>\n",
       "      <th>0</th>\n",
       "      <td>0</td>\n",
       "      <td>13740704</td>\n",
       "      <td>Cozy,budget friendly, cable inc, private entra...</td>\n",
       "      <td>20583125</td>\n",
       "      <td>Michel</td>\n",
       "      <td>Brooklyn, Flatlands</td>\n",
       "      <td>Private room</td>\n",
       "      <td>45$</td>\n",
       "      <td>10</td>\n",
       "      <td>2018-12-12</td>\n",
       "      <td>0.70</td>\n",
       "      <td>85</td>\n",
       "      <td>4.100954</td>\n",
       "      <td>12.0</td>\n",
       "      <td>0.609432</td>\n",
       "      <td>2018-06-08</td>\n",
       "      <td>40.63222</td>\n",
       "      <td>-73.93398</td>\n",
       "    </tr>\n",
       "    <tr>\n",
       "      <th>1</th>\n",
       "      <td>1</td>\n",
       "      <td>22005115</td>\n",
       "      <td>Two floor apartment near Central Park</td>\n",
       "      <td>82746113</td>\n",
       "      <td>Cecilia</td>\n",
       "      <td>Manhattan, Upper West Side</td>\n",
       "      <td>Entire home/apt</td>\n",
       "      <td>135$</td>\n",
       "      <td>1</td>\n",
       "      <td>2019-06-30</td>\n",
       "      <td>1.00</td>\n",
       "      <td>145</td>\n",
       "      <td>3.367600</td>\n",
       "      <td>1.2</td>\n",
       "      <td>0.746135</td>\n",
       "      <td>2018-12-25</td>\n",
       "      <td>40.78761</td>\n",
       "      <td>-73.96862</td>\n",
       "    </tr>\n",
       "    <tr>\n",
       "      <th>2</th>\n",
       "      <td>2</td>\n",
       "      <td>21667615</td>\n",
       "      <td>Beautiful 1BR in Brooklyn Heights</td>\n",
       "      <td>78251</td>\n",
       "      <td>Leslie</td>\n",
       "      <td>Brooklyn, Brooklyn Heights</td>\n",
       "      <td>Entire home/apt</td>\n",
       "      <td>150$</td>\n",
       "      <td>0</td>\n",
       "      <td>NaN</td>\n",
       "      <td>NaN</td>\n",
       "      <td>65</td>\n",
       "      <td>NaN</td>\n",
       "      <td>NaN</td>\n",
       "      <td>NaN</td>\n",
       "      <td>2018-08-15</td>\n",
       "      <td>40.70070</td>\n",
       "      <td>-73.99517</td>\n",
       "    </tr>\n",
       "    <tr>\n",
       "      <th>3</th>\n",
       "      <td>3</td>\n",
       "      <td>6425850</td>\n",
       "      <td>Spacious, charming studio</td>\n",
       "      <td>32715865</td>\n",
       "      <td>Yelena</td>\n",
       "      <td>Manhattan, Upper West Side</td>\n",
       "      <td>Entire home/apt</td>\n",
       "      <td>86$</td>\n",
       "      <td>5</td>\n",
       "      <td>2017-09-23</td>\n",
       "      <td>0.13</td>\n",
       "      <td>0</td>\n",
       "      <td>4.763203</td>\n",
       "      <td>6.0</td>\n",
       "      <td>0.769947</td>\n",
       "      <td>2017-03-20</td>\n",
       "      <td>40.79169</td>\n",
       "      <td>-73.97498</td>\n",
       "    </tr>\n",
       "    <tr>\n",
       "      <th>4</th>\n",
       "      <td>4</td>\n",
       "      <td>22986519</td>\n",
       "      <td>Bedroom on the lively Lower East Side</td>\n",
       "      <td>154262349</td>\n",
       "      <td>Brooke</td>\n",
       "      <td>Manhattan, Lower East Side</td>\n",
       "      <td>Private room</td>\n",
       "      <td>160$</td>\n",
       "      <td>23</td>\n",
       "      <td>2019-06-12</td>\n",
       "      <td>2.29</td>\n",
       "      <td>102</td>\n",
       "      <td>3.822591</td>\n",
       "      <td>27.6</td>\n",
       "      <td>0.649383</td>\n",
       "      <td>2020-10-23</td>\n",
       "      <td>40.71884</td>\n",
       "      <td>-73.98354</td>\n",
       "    </tr>\n",
       "    <tr>\n",
       "      <th>...</th>\n",
       "      <td>...</td>\n",
       "      <td>...</td>\n",
       "      <td>...</td>\n",
       "      <td>...</td>\n",
       "      <td>...</td>\n",
       "      <td>...</td>\n",
       "      <td>...</td>\n",
       "      <td>...</td>\n",
       "      <td>...</td>\n",
       "      <td>...</td>\n",
       "      <td>...</td>\n",
       "      <td>...</td>\n",
       "      <td>...</td>\n",
       "      <td>...</td>\n",
       "      <td>...</td>\n",
       "      <td>...</td>\n",
       "      <td>...</td>\n",
       "      <td>...</td>\n",
       "    </tr>\n",
       "    <tr>\n",
       "      <th>10014</th>\n",
       "      <td>10014</td>\n",
       "      <td>22307861</td>\n",
       "      <td>Lovely 1BR Harlem apartment</td>\n",
       "      <td>16004068</td>\n",
       "      <td>Rachel</td>\n",
       "      <td>Manhattan, Harlem</td>\n",
       "      <td>Entire home/apt</td>\n",
       "      <td>105$</td>\n",
       "      <td>4</td>\n",
       "      <td>2018-05-28</td>\n",
       "      <td>0.21</td>\n",
       "      <td>0</td>\n",
       "      <td>4.757555</td>\n",
       "      <td>4.8</td>\n",
       "      <td>0.639223</td>\n",
       "      <td>2017-11-22</td>\n",
       "      <td>40.80379</td>\n",
       "      <td>-73.95257</td>\n",
       "    </tr>\n",
       "    <tr>\n",
       "      <th>10015</th>\n",
       "      <td>10015</td>\n",
       "      <td>953275</td>\n",
       "      <td>Apartment For Your Holidays in NYC!</td>\n",
       "      <td>4460034</td>\n",
       "      <td>Alain</td>\n",
       "      <td>Manhattan, East Harlem</td>\n",
       "      <td>Entire home/apt</td>\n",
       "      <td>125$</td>\n",
       "      <td>50</td>\n",
       "      <td>2018-05-06</td>\n",
       "      <td>0.66</td>\n",
       "      <td>188</td>\n",
       "      <td>4.344704</td>\n",
       "      <td>60.0</td>\n",
       "      <td>0.648778</td>\n",
       "      <td>2017-10-31</td>\n",
       "      <td>40.79531</td>\n",
       "      <td>-73.93330</td>\n",
       "    </tr>\n",
       "    <tr>\n",
       "      <th>10016</th>\n",
       "      <td>10016</td>\n",
       "      <td>3452835</td>\n",
       "      <td>Artsy, Garden Getaway in Central Brooklyn</td>\n",
       "      <td>666862</td>\n",
       "      <td>Amy</td>\n",
       "      <td>Brooklyn, Clinton Hill</td>\n",
       "      <td>Entire home/apt</td>\n",
       "      <td>100$</td>\n",
       "      <td>45</td>\n",
       "      <td>2016-11-27</td>\n",
       "      <td>0.98</td>\n",
       "      <td>0</td>\n",
       "      <td>3.966214</td>\n",
       "      <td>54.0</td>\n",
       "      <td>0.631713</td>\n",
       "      <td>2016-05-24</td>\n",
       "      <td>40.68266</td>\n",
       "      <td>-73.96743</td>\n",
       "    </tr>\n",
       "    <tr>\n",
       "      <th>10017</th>\n",
       "      <td>10017</td>\n",
       "      <td>23540194</td>\n",
       "      <td>Immaculate townhouse in Clinton Hill, Brooklyn</td>\n",
       "      <td>67176930</td>\n",
       "      <td>Sophie</td>\n",
       "      <td>Brooklyn, Clinton Hill</td>\n",
       "      <td>Entire home/apt</td>\n",
       "      <td>450$</td>\n",
       "      <td>2</td>\n",
       "      <td>2019-05-31</td>\n",
       "      <td>0.17</td>\n",
       "      <td>99</td>\n",
       "      <td>4.078581</td>\n",
       "      <td>2.4</td>\n",
       "      <td>0.703360</td>\n",
       "      <td>2018-11-25</td>\n",
       "      <td>40.68832</td>\n",
       "      <td>-73.96366</td>\n",
       "    </tr>\n",
       "    <tr>\n",
       "      <th>10018</th>\n",
       "      <td>10018</td>\n",
       "      <td>32876011</td>\n",
       "      <td>Private room in a perfect location in the city</td>\n",
       "      <td>59583716</td>\n",
       "      <td>Shai</td>\n",
       "      <td>Manhattan, Upper East Side</td>\n",
       "      <td>Private room</td>\n",
       "      <td>90$</td>\n",
       "      <td>1</td>\n",
       "      <td>2019-03-12</td>\n",
       "      <td>0.25</td>\n",
       "      <td>8</td>\n",
       "      <td>4.069096</td>\n",
       "      <td>1.2</td>\n",
       "      <td>0.720249</td>\n",
       "      <td>2018-09-06</td>\n",
       "      <td>40.76174</td>\n",
       "      <td>-73.96625</td>\n",
       "    </tr>\n",
       "  </tbody>\n",
       "</table>\n",
       "<p>10019 rows × 18 columns</p>\n",
       "</div>"
      ],
      "text/plain": [
       "       Unnamed: 0  listing_id  \\\n",
       "0               0    13740704   \n",
       "1               1    22005115   \n",
       "2               2    21667615   \n",
       "3               3     6425850   \n",
       "4               4    22986519   \n",
       "...           ...         ...   \n",
       "10014       10014    22307861   \n",
       "10015       10015      953275   \n",
       "10016       10016     3452835   \n",
       "10017       10017    23540194   \n",
       "10018       10018    32876011   \n",
       "\n",
       "                                                    name    host_id host_name  \\\n",
       "0      Cozy,budget friendly, cable inc, private entra...   20583125    Michel   \n",
       "1                  Two floor apartment near Central Park   82746113   Cecilia   \n",
       "2                      Beautiful 1BR in Brooklyn Heights      78251    Leslie   \n",
       "3                              Spacious, charming studio   32715865    Yelena   \n",
       "4                  Bedroom on the lively Lower East Side  154262349    Brooke   \n",
       "...                                                  ...        ...       ...   \n",
       "10014                        Lovely 1BR Harlem apartment   16004068    Rachel   \n",
       "10015                Apartment For Your Holidays in NYC!    4460034     Alain   \n",
       "10016          Artsy, Garden Getaway in Central Brooklyn     666862       Amy   \n",
       "10017     Immaculate townhouse in Clinton Hill, Brooklyn   67176930    Sophie   \n",
       "10018     Private room in a perfect location in the city   59583716      Shai   \n",
       "\n",
       "               neighbourhood_full        room_type price  number_of_reviews  \\\n",
       "0             Brooklyn, Flatlands     Private room   45$                 10   \n",
       "1      Manhattan, Upper West Side  Entire home/apt  135$                  1   \n",
       "2      Brooklyn, Brooklyn Heights  Entire home/apt  150$                  0   \n",
       "3      Manhattan, Upper West Side  Entire home/apt   86$                  5   \n",
       "4      Manhattan, Lower East Side     Private room  160$                 23   \n",
       "...                           ...              ...   ...                ...   \n",
       "10014           Manhattan, Harlem  Entire home/apt  105$                  4   \n",
       "10015      Manhattan, East Harlem  Entire home/apt  125$                 50   \n",
       "10016      Brooklyn, Clinton Hill  Entire home/apt  100$                 45   \n",
       "10017      Brooklyn, Clinton Hill  Entire home/apt  450$                  2   \n",
       "10018  Manhattan, Upper East Side     Private room   90$                  1   \n",
       "\n",
       "      last_review  reviews_per_month  availability_365    rating  \\\n",
       "0      2018-12-12               0.70                85  4.100954   \n",
       "1      2019-06-30               1.00               145  3.367600   \n",
       "2             NaN                NaN                65       NaN   \n",
       "3      2017-09-23               0.13                 0  4.763203   \n",
       "4      2019-06-12               2.29               102  3.822591   \n",
       "...           ...                ...               ...       ...   \n",
       "10014  2018-05-28               0.21                 0  4.757555   \n",
       "10015  2018-05-06               0.66               188  4.344704   \n",
       "10016  2016-11-27               0.98                 0  3.966214   \n",
       "10017  2019-05-31               0.17                99  4.078581   \n",
       "10018  2019-03-12               0.25                 8  4.069096   \n",
       "\n",
       "       number_of_stays   5_stars listing_added  latitude  longitude  \n",
       "0                 12.0  0.609432    2018-06-08  40.63222  -73.93398  \n",
       "1                  1.2  0.746135    2018-12-25  40.78761  -73.96862  \n",
       "2                  NaN       NaN    2018-08-15  40.70070  -73.99517  \n",
       "3                  6.0  0.769947    2017-03-20  40.79169  -73.97498  \n",
       "4                 27.6  0.649383    2020-10-23  40.71884  -73.98354  \n",
       "...                ...       ...           ...       ...        ...  \n",
       "10014              4.8  0.639223    2017-11-22  40.80379  -73.95257  \n",
       "10015             60.0  0.648778    2017-10-31  40.79531  -73.93330  \n",
       "10016             54.0  0.631713    2016-05-24  40.68266  -73.96743  \n",
       "10017              2.4  0.703360    2018-11-25  40.68832  -73.96366  \n",
       "10018              1.2  0.720249    2018-09-06  40.76174  -73.96625  \n",
       "\n",
       "[10019 rows x 18 columns]"
      ]
     },
     "execution_count": 69,
     "metadata": {},
     "output_type": "execute_result"
    }
   ],
   "source": [
    "# Cetak data sekali lagi\n",
    "data"
   ]
  },
  {
   "cell_type": "markdown",
   "metadata": {
    "id": "zlzJPLK0RSr9"
   },
   "source": [
    "**Challenge 2**: Hapus `$` dari kolom `price` dan konversi ke `float`"
   ]
  },
  {
   "cell_type": "code",
   "execution_count": 70,
   "metadata": {
    "id": "Su6AjSotRHL-"
   },
   "outputs": [],
   "source": [
    "# Hapus tanda dolar ($) dari kolom price sebelum nantinya akan kita konversi ke tipe data FLOAT\n",
    "data['price'] = data['price'].str.strip(\"$\")"
   ]
  },
  {
   "cell_type": "code",
   "execution_count": 71,
   "metadata": {
    "colab": {
     "base_uri": "https://localhost:8080/"
    },
    "id": "_kXrFJ_IaVq2",
    "outputId": "e360f9f3-9676-4adb-c139-00335cb0fe1b"
   },
   "outputs": [
    {
     "name": "stdout",
     "output_type": "stream",
     "text": [
      "0     45\n",
      "1    135\n",
      "2    150\n",
      "3     86\n",
      "4    160\n",
      "Name: price, dtype: object\n"
     ]
    }
   ],
   "source": [
    "# Cetak untuk melihat apakah sudah terjadi perubahan pada kolom price\n",
    "print(data.price.head())"
   ]
  },
  {
   "cell_type": "code",
   "execution_count": 72,
   "metadata": {
    "id": "qTpZJaY1Rdhd"
   },
   "outputs": [],
   "source": [
    "# Konversi kolom price ke bentuk FLOAT\n",
    "data['price'] = data['price'].astype(float)"
   ]
  },
  {
   "cell_type": "code",
   "execution_count": 75,
   "metadata": {
    "colab": {
     "base_uri": "https://localhost:8080/"
    },
    "id": "5R0Ge4alawMn",
    "outputId": "74fac177-4edc-4e15-e0ad-14565d3f19fb"
   },
   "outputs": [
    {
     "data": {
      "text/plain": [
       "150.90512217564665"
      ]
     },
     "execution_count": 75,
     "metadata": {},
     "output_type": "execute_result"
    }
   ],
   "source": [
    "# Hitung nilai mean dari kolom price setelah dikonversi\n",
    "data_mean = data['price'].mean()\n",
    "data_mean"
   ]
  },
  {
   "cell_type": "code",
   "execution_count": 77,
   "metadata": {
    "colab": {
     "base_uri": "https://localhost:8080/",
     "height": 368
    },
    "id": "GH4hcs4kRx99",
    "outputId": "5606090d-31c8-4dfa-abb1-20edc7004cb6"
   },
   "outputs": [
    {
     "name": "stderr",
     "output_type": "stream",
     "text": [
      "C:\\Users\\ACER\\anaconda3\\lib\\site-packages\\seaborn\\distributions.py:2551: FutureWarning: `distplot` is a deprecated function and will be removed in a future version. Please adapt your code to use either `displot` (a figure-level function with similar flexibility) or `histplot` (an axes-level function for histograms).\n",
      "  warnings.warn(msg, FutureWarning)\n"
     ]
    },
    {
     "data": {
      "text/plain": [
       "[]"
      ]
     },
     "execution_count": 77,
     "metadata": {},
     "output_type": "execute_result"
    },
    {
     "data": {
      "image/png": "[encoded data removed]",
      "text/plain": [
       "<Figure size 432x288 with 1 Axes>"
      ]
     },
     "metadata": {
      "needs_background": "light"
     },
     "output_type": "display_data"
    }
   ],
   "source": [
    "# Buat visualisasi distribusi dari kolom prices\n",
    "sns.distplot(data['price'], bins = 20)\n",
    "plt.plot()"
   ]
  },
  {
   "cell_type": "markdown",
   "metadata": {
    "id": "6Lgkb8nBSa42"
   },
   "source": [
    "**Challenge 3**: Kita buat supaya kolom `room_type` benar-benar rapi secara kategori."
   ]
  },
  {
   "cell_type": "code",
   "execution_count": 84,
   "metadata": {
    "colab": {
     "base_uri": "https://localhost:8080/"
    },
    "id": "MkLeUjVUSO2u",
    "outputId": "c5e86b0d-d4cc-409f-ddc1-0df95421f34b"
   },
   "outputs": [
    {
     "data": {
      "text/plain": [
       "array(['Private room', 'Entire home/apt', 'Private', 'Shared room',\n",
       "       'PRIVATE ROOM', 'home', '   Shared room      '], dtype=object)"
      ]
     },
     "execution_count": 84,
     "metadata": {},
     "output_type": "execute_result"
    }
   ],
   "source": [
    "# Cetak supaya tahu kategori apa saja yang ada di kolom `room_type`\n",
    "\n",
    "data['room_type'].unique()"
   ]
  },
  {
   "cell_type": "markdown",
   "metadata": {},
   "source": [
    " diatas harus tampil :array(['Private room', 'Entire home/apt', 'Private', 'Shared room',\n",
    "                       'PRIVATE ROOM', 'home', '   Shared room      '], dtype=object)"
   ]
  },
  {
   "cell_type": "code",
   "execution_count": 93,
   "metadata": {
    "colab": {
     "base_uri": "https://localhost:8080/"
    },
    "id": "i25lxq3VSm32",
    "outputId": "8b4e90e8-20e5-479c-cc8c-021f5638413d"
   },
   "outputs": [
    {
     "data": {
      "text/plain": [
       "array(['private room', 'entire home/apt', 'private', 'shared room',\n",
       "       'home', '   shared room      '], dtype=object)"
      ]
     },
     "execution_count": 93,
     "metadata": {},
     "output_type": "execute_result"
    }
   ],
   "source": [
    "# Buat supaya semua berubah menjadi huruf kecil\n",
    "data['room_type'] = data['room_type'].str.lower()\n",
    "data['room_type'].unique()\n"
   ]
  },
  {
   "cell_type": "code",
   "execution_count": 94,
   "metadata": {
    "colab": {
     "base_uri": "https://localhost:8080/"
    },
    "id": "PVOMa8zqSpCQ",
    "outputId": "e6cf2f62-b406-4923-c800-3d93ce237c35"
   },
   "outputs": [
    {
     "data": {
      "text/plain": [
       "array(['private room', 'entire home/apt', 'private', 'shared room',\n",
       "       'home'], dtype=object)"
      ]
     },
     "execution_count": 94,
     "metadata": {},
     "output_type": "execute_result"
    }
   ],
   "source": [
    "# Buat supaya tidak ada spasi di awal dan akhir\n",
    "data['room_type'] = data['room_type'].str.strip()\n",
    "data['room_type'].unique()"
   ]
  },
  {
   "cell_type": "code",
   "execution_count": 117,
   "metadata": {
    "colab": {
     "base_uri": "https://localhost:8080/"
    },
    "id": "KaaDEmmFSrbR",
    "outputId": "a601ee4b-0b66-4ed4-89b3-a2fb74e9a110"
   },
   "outputs": [
    {
     "data": {
      "text/plain": [
       "array(['Private room', 'Entire place', 'Shared room', 'Hotel room'],\n",
       "      dtype=object)"
      ]
     },
     "execution_count": 117,
     "metadata": {},
     "output_type": "execute_result"
    }
   ],
   "source": [
    "# Ganti menjadi kategori 'Shared room', 'Entire place', 'Private room' dan 'Hotel room'\n",
    "mapping = {'private room': 'Private room',\n",
    "            'entire home/apt': 'Entire place',\n",
    "            'private': 'Private room',\n",
    "            'shared room': 'Shared room',\n",
    "            'home': 'Hotel room'}\n",
    "\n",
    "for index in mapping.keys():\n",
    "    data['room_type'] = data['room_type'].str.replace(key, mapping[index])\n",
    "    \n",
    "    \n",
    "data['room_type'].unique()"
   ]
  },
  {
   "cell_type": "code",
   "execution_count": 124,
   "metadata": {
    "colab": {
     "base_uri": "https://localhost:8080/",
     "height": 531
    },
    "id": "9GE3uwJlcj_O",
    "outputId": "4632e58d-29a1-4f03-acc2-10326f1101a5"
   },
   "outputs": [
    {
     "data": {
      "text/html": [
       "<div>\n",
       "<style scoped>\n",
       "    .dataframe tbody tr th:only-of-type {\n",
       "        vertical-align: middle;\n",
       "    }\n",
       "\n",
       "    .dataframe tbody tr th {\n",
       "        vertical-align: top;\n",
       "    }\n",
       "\n",
       "    .dataframe thead th {\n",
       "        text-align: right;\n",
       "    }\n",
       "</style>\n",
       "<table border=\"1\" class=\"dataframe\">\n",
       "  <thead>\n",
       "    <tr style=\"text-align: right;\">\n",
       "      <th></th>\n",
       "      <th>listing_id</th>\n",
       "      <th>name</th>\n",
       "      <th>host_id</th>\n",
       "      <th>host_name</th>\n",
       "      <th>neighbourhood_full</th>\n",
       "      <th>room_type</th>\n",
       "      <th>price</th>\n",
       "      <th>number_of_reviews</th>\n",
       "      <th>last_review</th>\n",
       "      <th>reviews_per_month</th>\n",
       "      <th>availability_365</th>\n",
       "      <th>rating</th>\n",
       "      <th>number_of_stays</th>\n",
       "      <th>5_stars</th>\n",
       "      <th>listing_added</th>\n",
       "      <th>latitude</th>\n",
       "      <th>longitude</th>\n",
       "    </tr>\n",
       "  </thead>\n",
       "  <tbody>\n",
       "    <tr>\n",
       "      <th>0</th>\n",
       "      <td>13740704</td>\n",
       "      <td>Cozy,budget friendly, cable inc, private entra...</td>\n",
       "      <td>20583125</td>\n",
       "      <td>Michel</td>\n",
       "      <td>Brooklyn, Flatlands</td>\n",
       "      <td>Private room</td>\n",
       "      <td>45.0</td>\n",
       "      <td>10</td>\n",
       "      <td>2018-12-12</td>\n",
       "      <td>0.70</td>\n",
       "      <td>85</td>\n",
       "      <td>4.100954</td>\n",
       "      <td>12.0</td>\n",
       "      <td>0.609432</td>\n",
       "      <td>2018-06-08</td>\n",
       "      <td>40.63222</td>\n",
       "      <td>-73.93398</td>\n",
       "    </tr>\n",
       "    <tr>\n",
       "      <th>1</th>\n",
       "      <td>22005115</td>\n",
       "      <td>Two floor apartment near Central Park</td>\n",
       "      <td>82746113</td>\n",
       "      <td>Cecilia</td>\n",
       "      <td>Manhattan, Upper West Side</td>\n",
       "      <td>Entire place</td>\n",
       "      <td>135.0</td>\n",
       "      <td>1</td>\n",
       "      <td>2019-06-30</td>\n",
       "      <td>1.00</td>\n",
       "      <td>145</td>\n",
       "      <td>3.367600</td>\n",
       "      <td>1.2</td>\n",
       "      <td>0.746135</td>\n",
       "      <td>2018-12-25</td>\n",
       "      <td>40.78761</td>\n",
       "      <td>-73.96862</td>\n",
       "    </tr>\n",
       "    <tr>\n",
       "      <th>2</th>\n",
       "      <td>21667615</td>\n",
       "      <td>Beautiful 1BR in Brooklyn Heights</td>\n",
       "      <td>78251</td>\n",
       "      <td>Leslie</td>\n",
       "      <td>Brooklyn, Brooklyn Heights</td>\n",
       "      <td>Entire place</td>\n",
       "      <td>150.0</td>\n",
       "      <td>0</td>\n",
       "      <td>NaN</td>\n",
       "      <td>NaN</td>\n",
       "      <td>65</td>\n",
       "      <td>NaN</td>\n",
       "      <td>NaN</td>\n",
       "      <td>NaN</td>\n",
       "      <td>2018-08-15</td>\n",
       "      <td>40.70070</td>\n",
       "      <td>-73.99517</td>\n",
       "    </tr>\n",
       "    <tr>\n",
       "      <th>3</th>\n",
       "      <td>6425850</td>\n",
       "      <td>Spacious, charming studio</td>\n",
       "      <td>32715865</td>\n",
       "      <td>Yelena</td>\n",
       "      <td>Manhattan, Upper West Side</td>\n",
       "      <td>Entire place</td>\n",
       "      <td>86.0</td>\n",
       "      <td>5</td>\n",
       "      <td>2017-09-23</td>\n",
       "      <td>0.13</td>\n",
       "      <td>0</td>\n",
       "      <td>4.763203</td>\n",
       "      <td>6.0</td>\n",
       "      <td>0.769947</td>\n",
       "      <td>2017-03-20</td>\n",
       "      <td>40.79169</td>\n",
       "      <td>-73.97498</td>\n",
       "    </tr>\n",
       "    <tr>\n",
       "      <th>4</th>\n",
       "      <td>22986519</td>\n",
       "      <td>Bedroom on the lively Lower East Side</td>\n",
       "      <td>154262349</td>\n",
       "      <td>Brooke</td>\n",
       "      <td>Manhattan, Lower East Side</td>\n",
       "      <td>Private room</td>\n",
       "      <td>160.0</td>\n",
       "      <td>23</td>\n",
       "      <td>2019-06-12</td>\n",
       "      <td>2.29</td>\n",
       "      <td>102</td>\n",
       "      <td>3.822591</td>\n",
       "      <td>27.6</td>\n",
       "      <td>0.649383</td>\n",
       "      <td>2020-10-23</td>\n",
       "      <td>40.71884</td>\n",
       "      <td>-73.98354</td>\n",
       "    </tr>\n",
       "  </tbody>\n",
       "</table>\n",
       "</div>"
      ],
      "text/plain": [
       "   listing_id                                               name    host_id  \\\n",
       "0    13740704  Cozy,budget friendly, cable inc, private entra...   20583125   \n",
       "1    22005115              Two floor apartment near Central Park   82746113   \n",
       "2    21667615                  Beautiful 1BR in Brooklyn Heights      78251   \n",
       "3     6425850                          Spacious, charming studio   32715865   \n",
       "4    22986519              Bedroom on the lively Lower East Side  154262349   \n",
       "\n",
       "  host_name          neighbourhood_full     room_type  price  \\\n",
       "0    Michel         Brooklyn, Flatlands  Private room   45.0   \n",
       "1   Cecilia  Manhattan, Upper West Side  Entire place  135.0   \n",
       "2    Leslie  Brooklyn, Brooklyn Heights  Entire place  150.0   \n",
       "3    Yelena  Manhattan, Upper West Side  Entire place   86.0   \n",
       "4    Brooke  Manhattan, Lower East Side  Private room  160.0   \n",
       "\n",
       "   number_of_reviews last_review  reviews_per_month  availability_365  \\\n",
       "0                 10  2018-12-12               0.70                85   \n",
       "1                  1  2019-06-30               1.00               145   \n",
       "2                  0         NaN                NaN                65   \n",
       "3                  5  2017-09-23               0.13                 0   \n",
       "4                 23  2019-06-12               2.29               102   \n",
       "\n",
       "     rating  number_of_stays   5_stars listing_added  latitude  longitude  \n",
       "0  4.100954             12.0  0.609432    2018-06-08  40.63222  -73.93398  \n",
       "1  3.367600              1.2  0.746135    2018-12-25  40.78761  -73.96862  \n",
       "2       NaN              NaN       NaN    2018-08-15  40.70070  -73.99517  \n",
       "3  4.763203              6.0  0.769947    2017-03-20  40.79169  -73.97498  \n",
       "4  3.822591             27.6  0.649383    2020-10-23  40.71884  -73.98354  "
      ]
     },
     "execution_count": 124,
     "metadata": {},
     "output_type": "execute_result"
    }
   ],
   "source": [
    "# Cek 5 data teratas untuk melihat perubahan yang terjadi\n",
    "data.drop('Unnamed: 0', inplace=True, axis=1)\n",
    "data.head()"
   ]
  },
  {
   "cell_type": "markdown",
   "metadata": {
    "id": "MktQegnOS7H-"
   },
   "source": [
    "**Challenge 4**: Kita bersihkan **missing data**"
   ]
  },
  {
   "cell_type": "code",
   "execution_count": 114,
   "metadata": {
    "colab": {
     "base_uri": "https://localhost:8080/",
     "height": 597
    },
    "id": "LFIgvPC7TZKO",
    "outputId": "73835861-2dad-46fb-b2bf-776c47a36e77",
    "scrolled": true
   },
   "outputs": [
    {
     "data": {
      "image/png": "[encoded data removed]",
      "text/plain": [
       "<Figure size 1800x720 with 2 Axes>"
      ]
     },
     "metadata": {
      "needs_background": "light"
     },
     "output_type": "display_data"
    }
   ],
   "source": [
    "# Visualisasi missingness \n",
    "msno.matrix(data)\n",
    "plt.show()"
   ]
  },
  {
   "cell_type": "code",
   "execution_count": 127,
   "metadata": {
    "colab": {
     "base_uri": "https://localhost:8080/",
     "height": 597
    },
    "id": "wq5EVIpmTu4h",
    "outputId": "990337d5-e6b9-4d2d-e6c7-880f1f3495a3"
   },
   "outputs": [
    {
     "data": {
      "image/png": "[encoded data removed]",
      "text/plain": [
       "<Figure size 1800x720 with 2 Axes>"
      ]
     },
     "metadata": {
      "needs_background": "light"
     },
     "output_type": "display_data"
    }
   ],
   "source": [
    "# Visualisasikan missingness berdasarkan rating\n",
    "msno.matrix(data.sort_values(by = 'rating'))\n",
    "plt.show()"
   ]
  },
  {
   "cell_type": "code",
   "execution_count": 116,
   "metadata": {
    "colab": {
     "base_uri": "https://localhost:8080/",
     "height": 648
    },
    "id": "NhftOP4gT1gQ",
    "outputId": "512fd178-3b37-4a2f-bd60-2720dac8d103"
   },
   "outputs": [
    {
     "data": {
      "text/plain": [
       "<AxesSubplot:>"
      ]
     },
     "execution_count": 116,
     "metadata": {},
     "output_type": "execute_result"
    },
    {
     "data": {
      "image/png": "[encoded data removed]",
      "text/plain": [
       "<Figure size 1800x720 with 3 Axes>"
      ]
     },
     "metadata": {
      "needs_background": "light"
     },
     "output_type": "display_data"
    }
   ],
   "source": [
    "# Buat dalam bentuk barplot\n",
    "msno.bar(data)"
   ]
  },
  {
   "cell_type": "code",
   "execution_count": 128,
   "metadata": {
    "colab": {
     "base_uri": "https://localhost:8080/",
     "height": 344
    },
    "id": "Thff8nSjT4C0",
    "outputId": "5bed22ef-9dbe-482b-afaf-b24465d04cdf"
   },
   "outputs": [
    {
     "data": {
      "text/html": [
       "<div>\n",
       "<style scoped>\n",
       "    .dataframe tbody tr th:only-of-type {\n",
       "        vertical-align: middle;\n",
       "    }\n",
       "\n",
       "    .dataframe tbody tr th {\n",
       "        vertical-align: top;\n",
       "    }\n",
       "\n",
       "    .dataframe thead th {\n",
       "        text-align: right;\n",
       "    }\n",
       "</style>\n",
       "<table border=\"1\" class=\"dataframe\">\n",
       "  <thead>\n",
       "    <tr style=\"text-align: right;\">\n",
       "      <th></th>\n",
       "      <th>listing_id</th>\n",
       "      <th>host_id</th>\n",
       "      <th>price</th>\n",
       "      <th>rating</th>\n",
       "      <th>latitude</th>\n",
       "      <th>longitude</th>\n",
       "    </tr>\n",
       "  </thead>\n",
       "  <tbody>\n",
       "    <tr>\n",
       "      <th>count</th>\n",
       "      <td>2.075000e+03</td>\n",
       "      <td>2.075000e+03</td>\n",
       "      <td>2028.000000</td>\n",
       "      <td>0.0</td>\n",
       "      <td>2075.000000</td>\n",
       "      <td>2075.000000</td>\n",
       "    </tr>\n",
       "    <tr>\n",
       "      <th>mean</th>\n",
       "      <td>2.274238e+07</td>\n",
       "      <td>8.022455e+07</td>\n",
       "      <td>191.553748</td>\n",
       "      <td>NaN</td>\n",
       "      <td>40.732074</td>\n",
       "      <td>-73.956771</td>\n",
       "    </tr>\n",
       "    <tr>\n",
       "      <th>std</th>\n",
       "      <td>1.123730e+07</td>\n",
       "      <td>8.663163e+07</td>\n",
       "      <td>316.186639</td>\n",
       "      <td>NaN</td>\n",
       "      <td>0.051168</td>\n",
       "      <td>0.041065</td>\n",
       "    </tr>\n",
       "    <tr>\n",
       "      <th>min</th>\n",
       "      <td>6.358800e+04</td>\n",
       "      <td>1.475100e+04</td>\n",
       "      <td>0.000000</td>\n",
       "      <td>NaN</td>\n",
       "      <td>40.527000</td>\n",
       "      <td>-74.209410</td>\n",
       "    </tr>\n",
       "    <tr>\n",
       "      <th>25%</th>\n",
       "      <td>1.232923e+07</td>\n",
       "      <td>1.224305e+07</td>\n",
       "      <td>70.000000</td>\n",
       "      <td>NaN</td>\n",
       "      <td>40.697845</td>\n",
       "      <td>-73.985185</td>\n",
       "    </tr>\n",
       "    <tr>\n",
       "      <th>50%</th>\n",
       "      <td>2.345182e+07</td>\n",
       "      <td>4.040116e+07</td>\n",
       "      <td>120.000000</td>\n",
       "      <td>NaN</td>\n",
       "      <td>40.727790</td>\n",
       "      <td>-73.960940</td>\n",
       "    </tr>\n",
       "    <tr>\n",
       "      <th>75%</th>\n",
       "      <td>3.400364e+07</td>\n",
       "      <td>1.333498e+08</td>\n",
       "      <td>205.250000</td>\n",
       "      <td>NaN</td>\n",
       "      <td>40.763480</td>\n",
       "      <td>-73.939540</td>\n",
       "    </tr>\n",
       "    <tr>\n",
       "      <th>max</th>\n",
       "      <td>3.648724e+07</td>\n",
       "      <td>2.741034e+08</td>\n",
       "      <td>5250.000000</td>\n",
       "      <td>NaN</td>\n",
       "      <td>40.911690</td>\n",
       "      <td>-73.727310</td>\n",
       "    </tr>\n",
       "  </tbody>\n",
       "</table>\n",
       "</div>"
      ],
      "text/plain": [
       "         listing_id       host_id        price  rating     latitude  \\\n",
       "count  2.075000e+03  2.075000e+03  2028.000000     0.0  2075.000000   \n",
       "mean   2.274238e+07  8.022455e+07   191.553748     NaN    40.732074   \n",
       "std    1.123730e+07  8.663163e+07   316.186639     NaN     0.051168   \n",
       "min    6.358800e+04  1.475100e+04     0.000000     NaN    40.527000   \n",
       "25%    1.232923e+07  1.224305e+07    70.000000     NaN    40.697845   \n",
       "50%    2.345182e+07  4.040116e+07   120.000000     NaN    40.727790   \n",
       "75%    3.400364e+07  1.333498e+08   205.250000     NaN    40.763480   \n",
       "max    3.648724e+07  2.741034e+08  5250.000000     NaN    40.911690   \n",
       "\n",
       "         longitude  \n",
       "count  2075.000000  \n",
       "mean    -73.956771  \n",
       "std       0.041065  \n",
       "min     -74.209410  \n",
       "25%     -73.985185  \n",
       "50%     -73.960940  \n",
       "75%     -73.939540  \n",
       "max     -73.727310  "
      ]
     },
     "execution_count": 128,
     "metadata": {},
     "output_type": "execute_result"
    }
   ],
   "source": [
    "# Cek DataFrame yang ada missing values di kolom rating, number_of_stays, 5_stars, reviews_per_month\n",
    "data[data['rating'].isna()].describe()"
   ]
  },
  {
   "cell_type": "code",
   "execution_count": 129,
   "metadata": {
    "id": "rYCxqFGaT_Qx"
   },
   "outputs": [],
   "source": [
    "# Lakukan imputasi untuk missing data\n",
    "data = data.fillna({'reviews_per_month':0, \n",
    "                    'numbers_of_stays':0,\n",
    "                    '5_stars':0})"
   ]
  },
  {
   "cell_type": "code",
   "execution_count": 130,
   "metadata": {
    "id": "rqyuglrjUC-C"
   },
   "outputs": [],
   "source": [
    "# Buat kolom baru, beri nama sudah_dinilai\n",
    "sudah_dinilai = np.where(data['rating'].isna() == True, 0,1)\n",
    "data['sudah dinilai'] = sudah_dinilai"
   ]
  },
  {
   "cell_type": "code",
   "execution_count": 131,
   "metadata": {
    "colab": {
     "base_uri": "https://localhost:8080/",
     "height": 531
    },
    "id": "3LbQDYhAeDoq",
    "outputId": "7b96fc61-2a4a-456c-b4da-19f2cb9166c6"
   },
   "outputs": [
    {
     "data": {
      "text/html": [
       "<div>\n",
       "<style scoped>\n",
       "    .dataframe tbody tr th:only-of-type {\n",
       "        vertical-align: middle;\n",
       "    }\n",
       "\n",
       "    .dataframe tbody tr th {\n",
       "        vertical-align: top;\n",
       "    }\n",
       "\n",
       "    .dataframe thead th {\n",
       "        text-align: right;\n",
       "    }\n",
       "</style>\n",
       "<table border=\"1\" class=\"dataframe\">\n",
       "  <thead>\n",
       "    <tr style=\"text-align: right;\">\n",
       "      <th></th>\n",
       "      <th>listing_id</th>\n",
       "      <th>name</th>\n",
       "      <th>host_id</th>\n",
       "      <th>host_name</th>\n",
       "      <th>room_type</th>\n",
       "      <th>price</th>\n",
       "      <th>rating</th>\n",
       "      <th>latitude</th>\n",
       "      <th>longitude</th>\n",
       "      <th>sudah dinilai</th>\n",
       "    </tr>\n",
       "  </thead>\n",
       "  <tbody>\n",
       "    <tr>\n",
       "      <th>0</th>\n",
       "      <td>13740704</td>\n",
       "      <td>Cozy,budget friendly, cable inc, private entra...</td>\n",
       "      <td>20583125</td>\n",
       "      <td>Michel</td>\n",
       "      <td>Private room</td>\n",
       "      <td>45.0</td>\n",
       "      <td>4.100954</td>\n",
       "      <td>40.63222</td>\n",
       "      <td>-73.93398</td>\n",
       "      <td>1</td>\n",
       "    </tr>\n",
       "    <tr>\n",
       "      <th>1</th>\n",
       "      <td>22005115</td>\n",
       "      <td>Two floor apartment near Central Park</td>\n",
       "      <td>82746113</td>\n",
       "      <td>Cecilia</td>\n",
       "      <td>Entire place</td>\n",
       "      <td>135.0</td>\n",
       "      <td>3.367600</td>\n",
       "      <td>40.78761</td>\n",
       "      <td>-73.96862</td>\n",
       "      <td>1</td>\n",
       "    </tr>\n",
       "    <tr>\n",
       "      <th>2</th>\n",
       "      <td>21667615</td>\n",
       "      <td>Beautiful 1BR in Brooklyn Heights</td>\n",
       "      <td>78251</td>\n",
       "      <td>Leslie</td>\n",
       "      <td>Entire place</td>\n",
       "      <td>150.0</td>\n",
       "      <td>NaN</td>\n",
       "      <td>40.70070</td>\n",
       "      <td>-73.99517</td>\n",
       "      <td>0</td>\n",
       "    </tr>\n",
       "    <tr>\n",
       "      <th>3</th>\n",
       "      <td>6425850</td>\n",
       "      <td>Spacious, charming studio</td>\n",
       "      <td>32715865</td>\n",
       "      <td>Yelena</td>\n",
       "      <td>Entire place</td>\n",
       "      <td>86.0</td>\n",
       "      <td>4.763203</td>\n",
       "      <td>40.79169</td>\n",
       "      <td>-73.97498</td>\n",
       "      <td>1</td>\n",
       "    </tr>\n",
       "    <tr>\n",
       "      <th>4</th>\n",
       "      <td>22986519</td>\n",
       "      <td>Bedroom on the lively Lower East Side</td>\n",
       "      <td>154262349</td>\n",
       "      <td>Brooke</td>\n",
       "      <td>Private room</td>\n",
       "      <td>160.0</td>\n",
       "      <td>3.822591</td>\n",
       "      <td>40.71884</td>\n",
       "      <td>-73.98354</td>\n",
       "      <td>1</td>\n",
       "    </tr>\n",
       "  </tbody>\n",
       "</table>\n",
       "</div>"
      ],
      "text/plain": [
       "   listing_id                                               name    host_id  \\\n",
       "0    13740704  Cozy,budget friendly, cable inc, private entra...   20583125   \n",
       "1    22005115              Two floor apartment near Central Park   82746113   \n",
       "2    21667615                  Beautiful 1BR in Brooklyn Heights      78251   \n",
       "3     6425850                          Spacious, charming studio   32715865   \n",
       "4    22986519              Bedroom on the lively Lower East Side  154262349   \n",
       "\n",
       "  host_name     room_type  price    rating  latitude  longitude  sudah dinilai  \n",
       "0    Michel  Private room   45.0  4.100954  40.63222  -73.93398              1  \n",
       "1   Cecilia  Entire place  135.0  3.367600  40.78761  -73.96862              1  \n",
       "2    Leslie  Entire place  150.0       NaN  40.70070  -73.99517              0  \n",
       "3    Yelena  Entire place   86.0  4.763203  40.79169  -73.97498              1  \n",
       "4    Brooke  Private room  160.0  3.822591  40.71884  -73.98354              1  "
      ]
     },
     "execution_count": 131,
     "metadata": {},
     "output_type": "execute_result"
    }
   ],
   "source": [
    "# Cek data\n",
    "data.head()"
   ]
  },
  {
   "cell_type": "markdown",
   "metadata": {
    "id": "JzXib411emo3"
   },
   "source": [
    "**Challenge 5**: Hapus kolom-kolom berikut\n",
    "\n",
    "\n",
    "1.   neighbourhood_full\n",
    "2.   number_of_reviews\n",
    "3.   last_review\n",
    "4.   reviews_per_month\n",
    "5.   availability_365\n",
    "6.   number_of_stays\n",
    "7.   5_stars\n",
    "8.   listing_added\n",
    "\n",
    "\n",
    "\n",
    "\n",
    "\n",
    "\n",
    "\n"
   ]
  },
  {
   "cell_type": "code",
   "execution_count": 125,
   "metadata": {
    "id": "hFcIOmijeGtG"
   },
   "outputs": [],
   "source": [
    "# Hapus beberapa kolom yang tidak dibutuhkan\n",
    "yg_dihapus = ['neighbourhood_full', 'number_of_reviews', 'last_review', 'reviews_per_month', 'availability_365', 'number_of_stays', '5_stars', 'listing_added']\n",
    "\n",
    "data.drop(yg_dihapus, inplace=True, axis=1)"
   ]
  },
  {
   "cell_type": "code",
   "execution_count": 134,
   "metadata": {
    "id": "QbDozJHifYbu"
   },
   "outputs": [
    {
     "data": {
      "text/html": [
       "<div>\n",
       "<style scoped>\n",
       "    .dataframe tbody tr th:only-of-type {\n",
       "        vertical-align: middle;\n",
       "    }\n",
       "\n",
       "    .dataframe tbody tr th {\n",
       "        vertical-align: top;\n",
       "    }\n",
       "\n",
       "    .dataframe thead th {\n",
       "        text-align: right;\n",
       "    }\n",
       "</style>\n",
       "<table border=\"1\" class=\"dataframe\">\n",
       "  <thead>\n",
       "    <tr style=\"text-align: right;\">\n",
       "      <th></th>\n",
       "      <th>listing_id</th>\n",
       "      <th>name</th>\n",
       "      <th>host_id</th>\n",
       "      <th>host_name</th>\n",
       "      <th>room_type</th>\n",
       "      <th>price</th>\n",
       "      <th>rating</th>\n",
       "      <th>latitude</th>\n",
       "      <th>longitude</th>\n",
       "      <th>sudah dinilai</th>\n",
       "    </tr>\n",
       "  </thead>\n",
       "  <tbody>\n",
       "    <tr>\n",
       "      <th>0</th>\n",
       "      <td>13740704</td>\n",
       "      <td>Cozy,budget friendly, cable inc, private entra...</td>\n",
       "      <td>20583125</td>\n",
       "      <td>Michel</td>\n",
       "      <td>Private room</td>\n",
       "      <td>45.0</td>\n",
       "      <td>4.100954</td>\n",
       "      <td>40.63222</td>\n",
       "      <td>-73.93398</td>\n",
       "      <td>1</td>\n",
       "    </tr>\n",
       "    <tr>\n",
       "      <th>1</th>\n",
       "      <td>22005115</td>\n",
       "      <td>Two floor apartment near Central Park</td>\n",
       "      <td>82746113</td>\n",
       "      <td>Cecilia</td>\n",
       "      <td>Entire place</td>\n",
       "      <td>135.0</td>\n",
       "      <td>3.367600</td>\n",
       "      <td>40.78761</td>\n",
       "      <td>-73.96862</td>\n",
       "      <td>1</td>\n",
       "    </tr>\n",
       "    <tr>\n",
       "      <th>2</th>\n",
       "      <td>21667615</td>\n",
       "      <td>Beautiful 1BR in Brooklyn Heights</td>\n",
       "      <td>78251</td>\n",
       "      <td>Leslie</td>\n",
       "      <td>Entire place</td>\n",
       "      <td>150.0</td>\n",
       "      <td>NaN</td>\n",
       "      <td>40.70070</td>\n",
       "      <td>-73.99517</td>\n",
       "      <td>0</td>\n",
       "    </tr>\n",
       "    <tr>\n",
       "      <th>3</th>\n",
       "      <td>6425850</td>\n",
       "      <td>Spacious, charming studio</td>\n",
       "      <td>32715865</td>\n",
       "      <td>Yelena</td>\n",
       "      <td>Entire place</td>\n",
       "      <td>86.0</td>\n",
       "      <td>4.763203</td>\n",
       "      <td>40.79169</td>\n",
       "      <td>-73.97498</td>\n",
       "      <td>1</td>\n",
       "    </tr>\n",
       "    <tr>\n",
       "      <th>4</th>\n",
       "      <td>22986519</td>\n",
       "      <td>Bedroom on the lively Lower East Side</td>\n",
       "      <td>154262349</td>\n",
       "      <td>Brooke</td>\n",
       "      <td>Private room</td>\n",
       "      <td>160.0</td>\n",
       "      <td>3.822591</td>\n",
       "      <td>40.71884</td>\n",
       "      <td>-73.98354</td>\n",
       "      <td>1</td>\n",
       "    </tr>\n",
       "  </tbody>\n",
       "</table>\n",
       "</div>"
      ],
      "text/plain": [
       "   listing_id                                               name    host_id  \\\n",
       "0    13740704  Cozy,budget friendly, cable inc, private entra...   20583125   \n",
       "1    22005115              Two floor apartment near Central Park   82746113   \n",
       "2    21667615                  Beautiful 1BR in Brooklyn Heights      78251   \n",
       "3     6425850                          Spacious, charming studio   32715865   \n",
       "4    22986519              Bedroom on the lively Lower East Side  154262349   \n",
       "\n",
       "  host_name     room_type  price    rating  latitude  longitude  sudah dinilai  \n",
       "0    Michel  Private room   45.0  4.100954  40.63222  -73.93398              1  \n",
       "1   Cecilia  Entire place  135.0  3.367600  40.78761  -73.96862              1  \n",
       "2    Leslie  Entire place  150.0       NaN  40.70070  -73.99517              0  \n",
       "3    Yelena  Entire place   86.0  4.763203  40.79169  -73.97498              1  \n",
       "4    Brooke  Private room  160.0  3.822591  40.71884  -73.98354              1  "
      ]
     },
     "execution_count": 134,
     "metadata": {},
     "output_type": "execute_result"
    }
   ],
   "source": [
    "# Tampilkan data\n",
    "data.head()"
   ]
  }
 ],
 "metadata": {
  "colab": {
   "name": "TTS_NIM.ipynb",
   "provenance": []
  },
  "kernelspec": {
   "display_name": "Python 3",
   "language": "python",
   "name": "python3"
  },
  "language_info": {
   "codemirror_mode": {
    "name": "ipython",
    "version": 3
   },
   "file_extension": ".py",
   "mimetype": "text/x-python",
   "name": "python",
   "nbconvert_exporter": "python",
   "pygments_lexer": "ipython3",
   "version": "3.8.5"
  }
 },
 "nbformat": 4,
 "nbformat_minor": 1
}
